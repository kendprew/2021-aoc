{
 "cells": [
  {
   "cell_type": "code",
   "execution_count": 2,
   "metadata": {},
   "outputs": [],
   "source": [
    "# Setup\n",
    "from time import perf_counter\n",
    "import numpy as np\n",
    "\n",
    "cpos = np.loadtxt(\"day07-input.txt\",delimiter=',')\n",
    "cpos_test = np.loadtxt(\"day07-test.txt\",delimiter=',')"
   ]
  },
  {
   "cell_type": "code",
   "execution_count": 4,
   "metadata": {},
   "outputs": [
    {
     "name": "stdout",
     "output_type": "stream",
     "text": [
      "Part 1 Solution =  344605\n",
      "Time Elapsed = 9.5557\n"
     ]
    }
   ],
   "source": [
    "# Part 1: determine the least number of moves required to align data entries in pos\n",
    "s = perf_counter()\n",
    "\n",
    "pos = np.arange(0,max(cpos),1,dtype = int)\n",
    "pos_test = np.arange(0,max(cpos_test),1,dtype = int)\n",
    "move = []\n",
    "sums = np.zeros_like(pos)\n",
    "for i in range(len(pos)):\n",
    "    for j in range(len(cpos)):\n",
    "        move = np.append(move,abs(cpos[j]-pos[i]))\n",
    "    sums[i] = sum(move)\n",
    "    move = []\n",
    "\n",
    "print(\"Part 1 Solution = \",min(sums))\n",
    "# Answer 344605, confirmed 12/7/21\n",
    "e = perf_counter()\n",
    "time = round((e - s),4)\n",
    "print('Time Elapsed =',time)"
   ]
  },
  {
   "cell_type": "code",
   "execution_count": 5,
   "metadata": {},
   "outputs": [
    {
     "name": "stdout",
     "output_type": "stream",
     "text": [
      "Part 2 Solution =  93699985\n",
      "Time Elapsed = 12.9438\n"
     ]
    }
   ],
   "source": [
    "# Part 2: determine the least number of moves required to align data entries in pos with new rules\n",
    "s = perf_counter()\n",
    "pos = np.arange(0,max(cpos),1,dtype = int)\n",
    "pos_test = np.arange(0,max(cpos_test),1,dtype = int)\n",
    "move = []\n",
    "sums = np.zeros_like(pos)\n",
    "\n",
    "for i in range(len(pos)):\n",
    "    for j in range(len(cpos)):\n",
    "        temp = abs(cpos[j]-pos[i])*(abs(cpos[j]-pos[i])+1)/2\n",
    "        move = np.append(move,temp)\n",
    "    sums[i] = sum(move)\n",
    "    move = []\n",
    "\n",
    "print(\"Part 2 Solution = \",min(sums))\n",
    "# Answer 93699985, confirmed 12/7/21\n",
    "e = perf_counter()\n",
    "time = round((e - s),4)\n",
    "print('Time Elapsed =',time)"
   ]
  },
  {
   "cell_type": "code",
   "execution_count": null,
   "metadata": {},
   "outputs": [],
   "source": [
    "\n",
    "print('Time Elapsed =',time)"
   ]
  }
 ],
 "metadata": {
  "kernelspec": {
   "display_name": "Python 3",
   "language": "python",
   "name": "python3"
  },
  "language_info": {
   "codemirror_mode": {
    "name": "ipython",
    "version": 3
   },
   "file_extension": ".py",
   "mimetype": "text/x-python",
   "name": "python",
   "nbconvert_exporter": "python",
   "pygments_lexer": "ipython3",
   "version": "3.7.4"
  }
 },
 "nbformat": 4,
 "nbformat_minor": 4
}
