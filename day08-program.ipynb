{
 "cells": [
  {
   "cell_type": "code",
   "execution_count": 1,
   "metadata": {},
   "outputs": [],
   "source": [
    "# setup\n",
    "import numpy as np\n",
    "import re\n",
    "test = np.loadtxt('day08-testf.txt', dtype=str)\n",
    "lines = np.loadtxt('day08-input.txt', dtype=str)\n",
    "# Calling data from array: test[0,10] calls the first output value of row 0"
   ]
  },
  {
   "cell_type": "code",
   "execution_count": 2,
   "metadata": {},
   "outputs": [
    {
     "name": "stdout",
     "output_type": "stream",
     "text": [
      "Part 1 Solution =  452\n"
     ]
    }
   ],
   "source": [
    "# Part 1: determine the number of instances of 1, 4, 7, 8 in output lines\n",
    "\n",
    "sizes = []\n",
    "\n",
    "# loop below correctly calls each of the output lines\n",
    "for i in range(len(lines)):\n",
    "    for j in range(len(lines[i])):\n",
    "        if j > 9: \n",
    "            sizes.append(len(lines[i,j]))\n",
    "\n",
    "solution = sizes.count(2) + sizes.count(3) + sizes.count(4) + sizes.count(7)  \n",
    "print('Part 1 Solution = ', solution)\n",
    "# Solution = 452, checked 12/8/2021"
   ]
  },
  {
   "cell_type": "code",
   "execution_count": 7,
   "metadata": {},
   "outputs": [
    {
     "name": "stdout",
     "output_type": "stream",
     "text": [
      "Part 2 Solution = 1096964\n"
     ]
    }
   ],
   "source": [
    "# Part 2: determine the sum of all output values\n",
    "sums = 0\n",
    "# function to remove duplicates from strings\n",
    "def remdup(str):\n",
    "    s=set(str)\n",
    "    s=\"\".join(s)\n",
    "    return(s)\n",
    "\n",
    "test = np.loadtxt('day08-inputf.txt', dtype=str)\n",
    "\n",
    "# Determine the sum of linevalues\n",
    "for G in range(len(test)):\n",
    "    output = ['','','','','','','','','','','']\n",
    "    fives = []\n",
    "    sixes = []\n",
    "    linevalues = [0,0,0,0]\n",
    "    # Determine 1, 4, 7, 8\n",
    "    for j in range(len(test[G])):\n",
    "        if j < 10:\n",
    "            if len(test[G,j]) == 2:\n",
    "                output[1] = test[G,j] \n",
    "            if len(test[G,j]) == 3:\n",
    "                output[7] = test[G,j] \n",
    "            if len(test[G,j]) == 4:\n",
    "                output[4] = test[G,j] \n",
    "            if len(test[G,j]) == 7:\n",
    "                output[8] = test[G,j]     \n",
    "            if len(test[G,j]) == 5:\n",
    "                fives.append(test[G,j])\n",
    "            if len(test[G,j]) == 6:\n",
    "                sixes.append(test[G,j])\n",
    "    # Determine 6\n",
    "    for j in range(len(sixes)):\n",
    "        A = remdup(output[1] + sixes[j])\n",
    "        if len(set(A).intersection(output[8])) == len(output[8]):\n",
    "            output[6] = sixes[j]\n",
    "            sixes.remove(sixes[j])\n",
    "            break\n",
    "    # Determine 0, 5, 9\n",
    "    for j in range(len(fives)):\n",
    "        B = remdup(output[1] + fives[j])\n",
    "        if len(set(B).intersection(sixes[0])) == len(sixes[0]):\n",
    "            output[9] = sixes[0]\n",
    "            sixes.remove(sixes[0])\n",
    "            output[0] = sixes[0]\n",
    "            sixes.remove(sixes[0])\n",
    "            output[5] = fives[j]\n",
    "            fives.remove(fives[j])\n",
    "            break\n",
    "        if len(set(B).intersection(sixes[1])) == len(sixes[1]):\n",
    "            output[9] = sixes[1]\n",
    "            sixes.remove(sixes[1])\n",
    "            output[0] = sixes[0]\n",
    "            sixes.remove(sixes[0])\n",
    "            output[5] = fives[j]\n",
    "            fives.remove(fives[j])\n",
    "            break    \n",
    "    # Determine 2, 7\n",
    "    for j in range(len(fives)):\n",
    "        C = remdup(output[7] + fives[j])\n",
    "        if set(C) == set(fives[j]):\n",
    "            output[3] = fives[j]\n",
    "            fives.remove(fives[j])\n",
    "            output[2] = fives[0]\n",
    "            fives.remove(fives[0])\n",
    "            break\n",
    "    output.remove('')\n",
    "    # Decode Line outputs\n",
    "    for j in range(len(test[G])):\n",
    "        if j > 9:\n",
    "            for k in range(len(output)):\n",
    "                if set(test[G,j]) == set(output[k]):\n",
    "                    linevalues[j-10] = k\n",
    "    solution = 1000*linevalues[0]+100*linevalues[1]+10*linevalues[2]+linevalues[3]\n",
    "    sums += solution\n",
    "print('Part 2 Solution =',sums)\n",
    "\n",
    "#solution = 1096964, verified 12/8/2021"
   ]
  },
  {
   "cell_type": "code",
   "execution_count": null,
   "metadata": {},
   "outputs": [],
   "source": []
  },
  {
   "cell_type": "code",
   "execution_count": null,
   "metadata": {},
   "outputs": [],
   "source": []
  }
 ],
 "metadata": {
  "kernelspec": {
   "display_name": "Python 3",
   "language": "python",
   "name": "python3"
  },
  "language_info": {
   "codemirror_mode": {
    "name": "ipython",
    "version": 3
   },
   "file_extension": ".py",
   "mimetype": "text/x-python",
   "name": "python",
   "nbconvert_exporter": "python",
   "pygments_lexer": "ipython3",
   "version": "3.7.4"
  }
 },
 "nbformat": 4,
 "nbformat_minor": 4
}
