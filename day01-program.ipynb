{
 "cells": [
  {
   "cell_type": "code",
   "execution_count": 1,
   "metadata": {},
   "outputs": [],
   "source": [
    "# SETUP\n",
    "import numpy as np\n",
    "input = np.loadtxt(\"day01-input.txt\")"
   ]
  },
  {
   "cell_type": "code",
   "execution_count": null,
   "metadata": {},
   "outputs": [],
   "source": [
    "# Part 1: Determine number of times the next entry is higher than the previous\n",
    "\n",
    "i = 1;\n",
    "count = 0;\n",
    "for i in range(len(input)):\n",
    "    if input[i] > input[i-1]:\n",
    "        count = count +1\n",
    "print(\"Part 1 Solution = \",count)\n",
    "\n",
    "# Answer 1228, confirmed 12/3/21"
   ]
  },
  {
   "cell_type": "code",
   "execution_count": null,
   "metadata": {},
   "outputs": [],
   "source": [
    "# Part 2: Determine number of time the sum of the measurement window increases from the previous window\n",
    "# Method: sum each measurement window and store that value in an array. Loop through that array and compare entries as in Part 1\n",
    "\n",
    "count = 0;\n",
    "MW = list(); #Measurement Window Array\n",
    "for j in range(len(input)-1):\n",
    "    MWS = input[j-1]+input[j]+input[j+1]; #Measurement Window Summation\n",
    "    MW.append(MWS) \n",
    "for k in range(len(MW)):\n",
    "    if MW[k] > MW[k-1]:\n",
    "        count = count + 1\n",
    "print(\"Part 2 Solution = \",count)   \n",
    "\n",
    "# Answer 1257, confirmed 12/3/21"
   ]
  },
  {
   "cell_type": "code",
   "execution_count": null,
   "metadata": {},
   "outputs": [],
   "source": []
  }
 ],
 "metadata": {
  "kernelspec": {
   "display_name": "Python 3",
   "language": "python",
   "name": "python3"
  },
  "language_info": {
   "codemirror_mode": {
    "name": "ipython",
    "version": 3
   },
   "file_extension": ".py",
   "mimetype": "text/x-python",
   "name": "python",
   "nbconvert_exporter": "python",
   "pygments_lexer": "ipython3",
   "version": "3.7.4"
  }
 },
 "nbformat": 4,
 "nbformat_minor": 4
}
