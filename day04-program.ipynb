{
 "cells": [
  {
   "cell_type": "code",
   "execution_count": 246,
   "metadata": {},
   "outputs": [],
   "source": [
    "# setup\n",
    "import numpy as np\n",
    "\n",
    "cards = np.loadtxt('day04-input.txt',skiprows=2)\n",
    "testcards = np.loadtxt('day04-test.txt',skiprows=2)\n",
    "clues = np.loadtxt('day04-input.txt',max_rows=1,delimiter=',')"
   ]
  },
  {
   "cell_type": "code",
   "execution_count": 247,
   "metadata": {},
   "outputs": [
    {
     "name": "stdout",
     "output_type": "stream",
     "text": [
      "Part 1 Solution =  41503\n"
     ]
    }
   ],
   "source": [
    "# Part 1: determine the first board to win bingo and compute that boards final score\n",
    "\n",
    "def prob():\n",
    "    bingobook = np.zeros_like(cards)\n",
    "    lim = [0,1,2,3,4]\n",
    "    columncheck = np.arange(0,499,5)\n",
    "\n",
    "    for i in range(len(clues)):\n",
    "        for j in range(len(bingobook)):\n",
    "            for k in lim:\n",
    "                if cards[j,k] == clues[i]:\n",
    "                    bingobook[j,k] = 1\n",
    "        for j in range(len(bingobook)):\n",
    "            if np.sum(bingobook[j,0:5]) == 5:\n",
    "                bingobook[j] = 0\n",
    "        for l in columncheck:\n",
    "            rowend = l+5\n",
    "            for m in lim:\n",
    "                if np.sum(bingobook[l:rowend,m]) == 5:\n",
    "                    bingobook[l:rowend,m] = 0\n",
    "    return\n",
    "\n",
    "prob()\n",
    "            \n",
    "winningclue = 77\n",
    "sum = 6 + 26 + 75 + 61 + 38 + 20 + 56 + 70 + 82 + 76 + 29\n",
    "solution = winningclue*sum\n",
    "print('Part 1 Solution = ',solution)\n",
    "\n",
    "# winning row 319\n",
    "# winning card at time of 77\n",
    "#[0. 0. 1. 1. 0.]\n",
    "#[0. 1. 1. 0. 0.]\n",
    "#[1. 0. 0. 1. 0.]\n",
    "#[1. 0. 1. 1. 0.]"
   ]
  },
  {
   "cell_type": "code",
   "execution_count": 248,
   "metadata": {},
   "outputs": [
    {
     "name": "stdout",
     "output_type": "stream",
     "text": [
      "Part 2 Solution =  3178.0\n"
     ]
    }
   ],
   "source": [
    "# Part 2 Solution - Determine last board to bingo\n",
    "\n",
    "# Function to create deck\n",
    "def formdeck(array):\n",
    "    board = np.zeros((5,5))\n",
    "    cards_array = np.asarray(array)\n",
    "    cardjump = np.arange(0,499,5)\n",
    "    cardnum = 0\n",
    "    deck = [None]*100\n",
    "    \n",
    "    for i in cardjump:\n",
    "        k = 0\n",
    "        for j in range(len(board)):\n",
    "            board[j] = cards_array[i+k]\n",
    "            k += 1\n",
    "        deck[cardnum] = board\n",
    "        cardnum += 1\n",
    "        board = np.zeros((5,5))\n",
    "    return(deck)\n",
    "\n",
    "# Part 2 solution function        \n",
    "def prob2(array):\n",
    "    deck = formdeck(array)\n",
    "    cardstep = np.arange(0,100,1)\n",
    "    bingobook = np.zeros_like(deck)\n",
    "    lim = [0,1,2,3,4]\n",
    "    \n",
    "    for i in range(len(clues)):\n",
    "        # mark clue\n",
    "        for j in range(len(cardstep)):\n",
    "            n = cardstep[j]\n",
    "            board = deck[n]\n",
    "            mirror = bingobook[n]\n",
    "            for k in lim:\n",
    "                for l in lim: \n",
    "                    if board[k,l] == clues[i]:\n",
    "                        mirror[k,l] = 1\n",
    "            bingobook[n] = mirror\n",
    "        if i == 85:\n",
    "            return(clues[i],bingobook[cardstep],cardstep)\n",
    "        for j in range(len(cardstep)):\n",
    "            n = cardstep[j]\n",
    "            mirror = bingobook[n]\n",
    "            mirrorT = np.transpose(mirror)\n",
    "            for k in lim:\n",
    "                found = False\n",
    "                if np.sum(mirror[k]) == 5:\n",
    "                    cardstep[j] = 101\n",
    "                if np.sum(mirrorT[k]) == 5:\n",
    "                    cardstep[j] = 101\n",
    "        cardstep = list(filter((101).__ne__, cardstep))      \n",
    "    return(print('no winner'))    \n",
    "\n",
    "clue, markers, step = prob2(cards)\n",
    "sums = 81+75+24+46+1\n",
    "solution = clue*sums\n",
    "print('Part 2 Solution = ', solution)\n",
    "\n",
    "# Solution = 3178, confirmed 12/9/2021"
   ]
  },
  {
   "cell_type": "code",
   "execution_count": null,
   "metadata": {},
   "outputs": [],
   "source": []
  }
 ],
 "metadata": {
  "kernelspec": {
   "display_name": "Python 3",
   "language": "python",
   "name": "python3"
  },
  "language_info": {
   "codemirror_mode": {
    "name": "ipython",
    "version": 3
   },
   "file_extension": ".py",
   "mimetype": "text/x-python",
   "name": "python",
   "nbconvert_exporter": "python",
   "pygments_lexer": "ipython3",
   "version": "3.7.4"
  }
 },
 "nbformat": 4,
 "nbformat_minor": 4
}
