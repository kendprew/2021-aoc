{
 "cells": [
  {
   "cell_type": "code",
   "execution_count": 151,
   "metadata": {},
   "outputs": [],
   "source": [
    "# setup - folding problem\n",
    "import numpy as np\n",
    "import matplotlib.pyplot as plt\n",
    "from mpl_toolkits.mplot3d.axes3d import Axes3D\n",
    "\n",
    "cols = np.loadtxt('day13-input.txt', delimiter = ',', max_rows = 715,dtype = int, usecols = 0)\n",
    "rows = np.loadtxt('day13-input.txt', delimiter = ',', max_rows = 715,dtype = int, usecols = 1)\n",
    "fold = np.loadtxt('day13-input.txt', skiprows = 715, dtype = str)\n",
    "\n",
    "colsT = np.loadtxt('day13-test.txt', max_rows = 18,dtype = int, usecols = 0)\n",
    "rowsT = np.loadtxt('day13-test.txt', max_rows = 18,dtype = int, usecols = 1)\n",
    "foldT = np.loadtxt('day13-test.txt', skiprows = 18, dtype = str)"
   ]
  },
  {
   "cell_type": "code",
   "execution_count": 152,
   "metadata": {},
   "outputs": [
    {
     "name": "stdout",
     "output_type": "stream",
     "text": [
      "18\n",
      "17\n"
     ]
    }
   ],
   "source": [
    "# Part 1: test data\n",
    "row = max(rowsT)\n",
    "col = max(colsT)\n",
    "\n",
    "grid0 = np.tile(0,(row+1,col+1))\n",
    "\n",
    "for i in range(len(rowsT)):\n",
    "    grid0[rowsT[i],colsT[i]] = 1\n",
    "print(grid0.sum())\n",
    "\n",
    "#print(np.transpose(grid0))\n",
    "#print(grid0)\n",
    "\n",
    "grid0[7]\n",
    "count = 0\n",
    "\n",
    "# Perform folds\n",
    "\n",
    "for i in range(len(rowsT)):\n",
    "    if rowsT[i] > int(foldT[0][1]):\n",
    "        count += 1\n",
    "        #print(rowsT[i]-7)\n",
    "        grid0[rowsT[i],colsT[i]] = 0\n",
    "        grid0[2*int(foldT[0][1])-rowsT[i],colsT[i]] = 1\n",
    "        #rowsT[i] = 2*int(foldT[0][1])-rowsT[i]\n",
    "#print(count)\n",
    "#print(grid0)\n",
    "print(grid0.sum())"
   ]
  },
  {
   "cell_type": "code",
   "execution_count": 147,
   "metadata": {},
   "outputs": [
    {
     "name": "stdout",
     "output_type": "stream",
     "text": [
      "Part 1 Solution = 607\n"
     ]
    }
   ],
   "source": [
    "# Part 1: input data\n",
    "row = max(rows)\n",
    "col = max(cols)\n",
    "grid0 = np.tile(0,(row+1,col+1))\n",
    "for i in range(len(rows)):\n",
    "    grid0[rows[i],cols[i]] = 1\n",
    "\n",
    "#print(np.transpose(grid0))\n",
    "\n",
    "# # Perform row (y) fold\n",
    "# for i in range(len(rows)):\n",
    "#     if rows[i] > int(fold[0][1]):\n",
    "#         grid0[rows[i],cols[i]] = 0\n",
    "#         grid0[2*int(fold[0][1])-rows[i],cols[i]] = 1\n",
    "# Perform col (x) fold\n",
    "for i in range(len(rows)):\n",
    "    if cols[i] > int(fold[0][1]):\n",
    "        grid0[rows[i],cols[i]] = 0\n",
    "        grid0[rows[i],2*int(fold[0][1])-cols[i]] = 1\n",
    "\n",
    "\n",
    "#print(grid0)\n",
    "print('Part 1 Solution =',grid0.sum())\n",
    "\n",
    "#SOlution = 607, confirmed 12/14/21"
   ]
  },
  {
   "cell_type": "code",
   "execution_count": 212,
   "metadata": {},
   "outputs": [
    {
     "name": "stdout",
     "output_type": "stream",
     "text": [
      "Part 2 Solution = CPZLPFZL\n"
     ]
    },
    {
     "data": {
      "image/png": "[encoded data removed]",
      "text/plain": [
       "<Figure size 432x230.4 with 2 Axes>"
      ]
     },
     "metadata": {
      "needs_background": "light"
     },
     "output_type": "display_data"
    }
   ],
   "source": [
    "# Part 2: Perform all the folds\n",
    "cols = np.loadtxt('day13-input.txt', delimiter = ',', max_rows = 715,dtype = int, usecols = 0)\n",
    "rows = np.loadtxt('day13-input.txt', delimiter = ',', max_rows = 715,dtype = int, usecols = 1)\n",
    "\n",
    "row = max(rows)\n",
    "col = max(cols)\n",
    "grid0 = np.tile(0,(row+1,col+1))\n",
    "for i in range(len(rows)):\n",
    "    grid0[rows[i],cols[i]] = 1\n",
    "\n",
    "# #print(np.transpose(grid0))\n",
    "for j in range(len(fold)):\n",
    "    i = 0\n",
    "# Perform row (y) fold\n",
    "    if fold[j][0] == 'row':\n",
    "        for i in range(len(rows)):\n",
    "            if rows[i] > int(fold[j][1]):\n",
    "                grid0[rows[i],cols[i]] = 0\n",
    "                grid0[2*int(fold[j][1])-rows[i],cols[i]] = 1\n",
    "                rows[i] = 2*int(fold[j][1])-rows[i]\n",
    "# Perform col (x) fold\n",
    "    if fold[j][0] == 'col':\n",
    "        for i in range(len(rows)):\n",
    "            if cols[i] > int(fold[j][1]):\n",
    "                grid0[rows[i],cols[i]] = 0\n",
    "                grid0[rows[i],2*int(fold[j][1])-cols[i]] = 1\n",
    "                cols[i] = 2*int(fold[j][1])-cols[i]\n",
    "#     if j == 7:\n",
    "#         break\n",
    "\n",
    "print('Part 2 Solution = CPZLPFZL')\n",
    "\n",
    "H = grid0.copy()\n",
    "scale = 1\n",
    "plt.figure(figsize=(6*scale, 3.2*scale))\n",
    "plt.imshow(H,cmap = \"gray\" , vmin=0, vmax=1)\n",
    "plt.colorbar()\n",
    "plt.title( 'Sea Floor Topo' )\n",
    "plt.xlim([-1,40])\n",
    "plt.ylim([10, -1])\n",
    "plt.show()\n",
    "# Solution = CPZLPFZL, confirmed 12/14/2021"
   ]
  },
  {
   "cell_type": "code",
   "execution_count": null,
   "metadata": {},
   "outputs": [],
   "source": []
  }
 ],
 "metadata": {
  "kernelspec": {
   "display_name": "Python 3",
   "language": "python",
   "name": "python3"
  },
  "language_info": {
   "codemirror_mode": {
    "name": "ipython",
    "version": 3
   },
   "file_extension": ".py",
   "mimetype": "text/x-python",
   "name": "python",
   "nbconvert_exporter": "python",
   "pygments_lexer": "ipython3",
   "version": "3.7.4"
  }
 },
 "nbformat": 4,
 "nbformat_minor": 4
}
