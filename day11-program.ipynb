{
 "cells": [
  {
   "cell_type": "code",
   "execution_count": 47,
   "metadata": {},
   "outputs": [],
   "source": [
    "# setup\n",
    "import numpy as np\n",
    "grid = np.loadtxt(\"day11-input.txt\",dtype = str)\n",
    "test = np.loadtxt('day11-test.txt',dtype = str)"
   ]
  },
  {
   "cell_type": "code",
   "execution_count": 48,
   "metadata": {},
   "outputs": [
    {
     "data": {
      "text/plain": [
       "450"
      ]
     },
     "execution_count": 48,
     "metadata": {},
     "output_type": "execute_result"
    }
   ],
   "source": [
    "# Assign input data\n",
    "\n",
    "# input data\n",
    "rows = len(grid)\n",
    "cols = len(list(grid[0]))\n",
    "grid0 = np.tile(0,(rows,cols))\n",
    "for i in range(len(grid)):\n",
    "    line = list(grid[i])\n",
    "    for j in range(len(line)):\n",
    "        grid0[i,j] = int(line[j])\n",
    "grid0.sum()\n",
    "\n",
    "# # test data\n",
    "# rows = len(test)\n",
    "# cols = len(list(test[0]))\n",
    "# grid0 = np.tile(0,(rows,cols))\n",
    "# for i in range(len(test)):\n",
    "#     line = list(test[i])\n",
    "#     for j in range(len(line)):\n",
    "#         grid0[i,j] = int(line[j])\n"
   ]
  },
  {
   "cell_type": "code",
   "execution_count": 49,
   "metadata": {},
   "outputs": [],
   "source": [
    "# flash your neighbors function\n",
    "\n",
    "def flashy(rows, cols):\n",
    "    xrange = [-1,-1,-1,0,0,1,1,1]\n",
    "    yrange = [-1,0,1,-1,1,-1,0,1]\n",
    "    points = []\n",
    "    ban1 = {-1}\n",
    "    ban2 = {10}\n",
    "    for i in range(len(xrange)): \n",
    "        points.append((rows+xrange[i],cols+yrange[i]))\n",
    "    for i in range(len(points)):\n",
    "        A = set(points[i])\n",
    "        if ban1.issubset(A) == True:\n",
    "            points[i] = ()\n",
    "        if ban2.issubset(A) == True:\n",
    "            points[i] = ()       \n",
    "    points = list(filter((()).__ne__, points)).copy()\n",
    "    return(points)"
   ]
  },
  {
   "cell_type": "code",
   "execution_count": 52,
   "metadata": {},
   "outputs": [
    {
     "name": "stdout",
     "output_type": "stream",
     "text": [
      "Part 1 Solution:  4367\n"
     ]
    }
   ],
   "source": [
    "# Part 1: Determine number of flashes after 100 steps\n",
    "\n",
    "octogrid = grid0.copy()\n",
    "steps = 277\n",
    "step = np.arange(0,steps,1)\n",
    "flash = 0\n",
    "sync = []\n",
    "for i in step:\n",
    "    if octogrid.sum() > 899:\n",
    "        sync.append(i+1)\n",
    "    if octogrid.sum() == 0:\n",
    "        sync.append(i) \n",
    "    # increment octogrid\n",
    "    for j in range(len(octogrid)):\n",
    "        for k in range(len(octogrid[0])):\n",
    "            octogrid[j,k] += 1\n",
    "            if octogrid.sum() > 899:\n",
    "                sync.append(i)\n",
    "    # check and apply flash effects\n",
    "    count = 0\n",
    "    \n",
    "    while True:\n",
    "        for j in range(len(octogrid)):\n",
    "            for k in range(len(octogrid[0])):\n",
    "                if octogrid[j,k] > 9:\n",
    "                    octogrid[j,k] = 0\n",
    "                    flash += 1\n",
    "                    flashed = flashy(j,k)\n",
    "                    for l in range(len(flashed)):\n",
    "                        if octogrid[flashed[l]] != 0:\n",
    "                            octogrid[flashed[l]] += 1\n",
    "                            if octogrid.sum() > 899:\n",
    "                                sync.append(i+1)\n",
    "                            if octogrid.sum() == 0:\n",
    "                                sync.append(i+1)                            \n",
    "        count += 1\n",
    "        if count == 50:\n",
    "            break\n",
    "\n",
    "print('Part 1 Solution: ', flash)\n",
    "# Solution = 1681, confirmed 12/11/21"
   ]
  },
  {
   "cell_type": "code",
   "execution_count": 46,
   "metadata": {},
   "outputs": [
    {
     "name": "stdout",
     "output_type": "stream",
     "text": [
      "Part 2 Solution =  [276]\n"
     ]
    }
   ],
   "source": [
    "# Part 2: Determine when all octopi flash simultaneously \n",
    "print('Part 2 Solution = ', sync)\n"
   ]
  },
  {
   "cell_type": "code",
   "execution_count": null,
   "metadata": {},
   "outputs": [],
   "source": []
  },
  {
   "cell_type": "code",
   "execution_count": null,
   "metadata": {},
   "outputs": [],
   "source": []
  }
 ],
 "metadata": {
  "kernelspec": {
   "display_name": "Python 3",
   "language": "python",
   "name": "python3"
  },
  "language_info": {
   "codemirror_mode": {
    "name": "ipython",
    "version": 3
   },
   "file_extension": ".py",
   "mimetype": "text/x-python",
   "name": "python",
   "nbconvert_exporter": "python",
   "pygments_lexer": "ipython3",
   "version": "3.7.4"
  }
 },
 "nbformat": 4,
 "nbformat_minor": 4
}
