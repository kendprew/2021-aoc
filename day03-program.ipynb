{
 "cells": [
  {
   "cell_type": "code",
   "execution_count": 4,
   "metadata": {},
   "outputs": [],
   "source": [
    "# SETUP\n",
    "import numpy as np\n",
    "import re\n",
    "\n",
    "binary = np.loadtxt(\"day03-input.txt\",usecols=(0), dtype=str)"
   ]
  },
  {
   "cell_type": "code",
   "execution_count": 6,
   "metadata": {},
   "outputs": [
    {
     "name": "stdout",
     "output_type": "stream",
     "text": [
      "Part 1 Solution =  2498354\n"
     ]
    }
   ],
   "source": [
    "# Part 1: Determine the binary for two parameters by summing and comparing each character in a binary string\n",
    "one = 0;\n",
    "zero = 0;\n",
    "ex = '101010011010';\n",
    "temp = 0;\n",
    "gamma = [];\n",
    "ep =  [];\n",
    "i = 0;\n",
    "\n",
    "for i in range(len(ex)):\n",
    "    for j in range(len(binary)):\n",
    "        line = binary[j];\n",
    "        if line[i] == \"0\":\n",
    "            zero = zero + 1\n",
    "        if line[i] == \"1\":\n",
    "            one = one + 1\n",
    "    if one > zero:\n",
    "        gamma.append(1)\n",
    "        ep.append(0)\n",
    "    if zero > one:\n",
    "        gamma.append(0)\n",
    "        ep.append(1)   \n",
    "    one = 0;\n",
    "    zero = 0;\n",
    "\n",
    "Product = 3349*746\n",
    "print(\"Part 1 Solution = \", Product)\n",
    "\n",
    "# Answer 2498354, confirmed 12/3/21\n",
    "\n",
    "## NEED TO CONVERT ARRAY OF NUMBERS TO SINGLE NUMBER AND CONVERT TO DECIMAL STILL"
   ]
  },
  {
   "cell_type": "code",
   "execution_count": 1,
   "metadata": {},
   "outputs": [
    {
     "ename": "NameError",
     "evalue": "name 'binary' is not defined",
     "output_type": "error",
     "traceback": [
      "\u001b[1;31m---------------------------------------------------------------------------\u001b[0m",
      "\u001b[1;31mNameError\u001b[0m                                 Traceback (most recent call last)",
      "\u001b[1;32m<ipython-input-1-eaedf97c433d>\u001b[0m in \u001b[0;36m<module>\u001b[1;34m\u001b[0m\n\u001b[1;32m----> 1\u001b[1;33m \u001b[0mnewrecruits\u001b[0m \u001b[1;33m=\u001b[0m \u001b[0mbinary\u001b[0m\u001b[1;33m;\u001b[0m\u001b[1;33m\u001b[0m\u001b[1;33m\u001b[0m\u001b[0m\n\u001b[0m\u001b[0;32m      2\u001b[0m \u001b[0mgamma\u001b[0m \u001b[1;33m=\u001b[0m \u001b[1;33m[\u001b[0m\u001b[1;33m]\u001b[0m\u001b[1;33m;\u001b[0m\u001b[1;33m\u001b[0m\u001b[1;33m\u001b[0m\u001b[0m\n\u001b[0;32m      3\u001b[0m \u001b[0mresult\u001b[0m \u001b[1;33m=\u001b[0m \u001b[1;33m[\u001b[0m\u001b[1;33m]\u001b[0m\u001b[1;33m;\u001b[0m\u001b[1;33m\u001b[0m\u001b[1;33m\u001b[0m\u001b[0m\n\u001b[0;32m      4\u001b[0m \u001b[0mi\u001b[0m \u001b[1;33m=\u001b[0m \u001b[1;36m0\u001b[0m\u001b[1;33m;\u001b[0m\u001b[1;33m\u001b[0m\u001b[1;33m\u001b[0m\u001b[0m\n\u001b[0;32m      5\u001b[0m \u001b[0mj\u001b[0m \u001b[1;33m=\u001b[0m \u001b[1;36m0\u001b[0m\u001b[1;33m;\u001b[0m\u001b[1;33m\u001b[0m\u001b[1;33m\u001b[0m\u001b[0m\n",
      "\u001b[1;31mNameError\u001b[0m: name 'binary' is not defined"
     ]
    }
   ],
   "source": [
    "newrecruits = binary;\n",
    "gamma = [];\n",
    "result = [];\n",
    "i = 0;\n",
    "j = 0;\n",
    "\n",
    "# Determine Oxygen Generator Rating (ox)\n",
    "\n",
    "for i in range(len(ex)):\n",
    "    one = 0;\n",
    "    zero = 0;\n",
    "    cull = 0;\n",
    "    survivors = [];\n",
    "    #COUNT\n",
    "    for j in range(len(newrecruits)):\n",
    "        line = newrecruits[j];\n",
    "        if line[i] == \"0\":\n",
    "             zero = zero + 1\n",
    "        if line[i] == \"1\":\n",
    "             one = one + 1\n",
    "\n",
    "    if one > zero:\n",
    "        cull = \"1\";\n",
    "    if one < zero:\n",
    "        cull = \"0\";\n",
    "    if one == zero:\n",
    "        cull = \"1\";\n",
    "\n",
    "    # CULL\n",
    "    for k in range(len(newrecruits)):\n",
    "        line = newrecruits[k]\n",
    "        if line[i] == cull:\n",
    "            survivors.append(line)\n",
    "    newrecruits = [];\n",
    "    newrecruits = survivors;\n",
    "ox = survivors[0];\n",
    "\n",
    "# Determine C02 scrubber rating (c02)\n",
    "\n",
    "newrecruits = binary;\n",
    "gamma = [];\n",
    "result = [];\n",
    "i = 0;\n",
    "j = 0;\n",
    "\n",
    "for i in range(len(ex)):\n",
    "    test = len(newrecruits)\n",
    "    if test == 1:\n",
    "        c02 = newrecruits[0]\n",
    "    one = 0;\n",
    "    zero = 0;\n",
    "    cull = 0;\n",
    "    survivors = [];\n",
    "    #COUNT\n",
    "    for j in range(len(newrecruits)):\n",
    "        line = newrecruits[j];\n",
    "        if line[i] == \"0\":\n",
    "             zero = zero + 1\n",
    "        if line[i] == \"1\":\n",
    "             one = one + 1\n",
    "    if one > zero:\n",
    "        cull = \"0\";\n",
    "    if one < zero:\n",
    "        cull = \"1\";\n",
    "    if one == zero:\n",
    "        cull = \"0\";\n",
    "    # CULL\n",
    "    for k in range(len(newrecruits)):\n",
    "        line = newrecruits[k]\n",
    "        if line[i] == cull:\n",
    "            survivors.append(line)\n",
    "    newrecruits = [];\n",
    "    newrecruits = survivors;\n",
    "\n",
    "solution = 3921*836\n",
    "print('Part 2 Solution =',solution)\n",
    "\n",
    "#solution 3277956 confirmed 12/3/2021\n",
    "\n",
    "#need to add code to convert solutions to decimal from binary"
   ]
  },
  {
   "cell_type": "code",
   "execution_count": null,
   "metadata": {},
   "outputs": [],
   "source": []
  }
 ],
 "metadata": {
  "kernelspec": {
   "display_name": "Python 3",
   "language": "python",
   "name": "python3"
  },
  "language_info": {
   "codemirror_mode": {
    "name": "ipython",
    "version": 3
   },
   "file_extension": ".py",
   "mimetype": "text/x-python",
   "name": "python",
   "nbconvert_exporter": "python",
   "pygments_lexer": "ipython3",
   "version": "3.7.4"
  }
 },
 "nbformat": 4,
 "nbformat_minor": 4
}
