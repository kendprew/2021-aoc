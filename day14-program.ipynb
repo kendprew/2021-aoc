{
 "cells": [
  {
   "cell_type": "code",
   "execution_count": 28,
   "metadata": {},
   "outputs": [],
   "source": [
    "# setup - polymer string injection problem\n",
    "import numpy as np\n",
    "\n",
    "base1 = np.loadtxt('day14-input.txt', max_rows = 1, dtype = str)\n",
    "rules = np.loadtxt('day14-input.txt', skiprows = 1, dtype = str)\n",
    "testrules = np.loadtxt('day14-test.txt', dtype = str)"
   ]
  },
  {
   "cell_type": "code",
   "execution_count": 29,
   "metadata": {},
   "outputs": [],
   "source": [
    "# function to check the rules\n",
    "\n",
    "def checkrules(array, value1, value2):\n",
    "    for j in range(len(array)):\n",
    "        if array[j][0][0] == value1:\n",
    "            if array[j][0][1] == value2:\n",
    "                return(array[j][1])\n",
    "    return(False)\n",
    "\n",
    "# function to list injections\n",
    "\n",
    "def listinj(rulesf,basef):\n",
    "    inj = []\n",
    "    for i in range(len(basef)):\n",
    "        if i != len(basef)-1:\n",
    "            if checkrules(rulesf,basef[i],basef[i+1]) != False:\n",
    "                insert = checkrules(rulesf,basef[i],basef[i+1])\n",
    "                inj.append([i+1,insert])\n",
    "    return(inj)"
   ]
  },
  {
   "cell_type": "code",
   "execution_count": 34,
   "metadata": {},
   "outputs": [
    {
     "name": "stdout",
     "output_type": "stream",
     "text": [
      "Part 1 solution = 3213\n"
     ]
    }
   ],
   "source": [
    "# Perform injections\n",
    "base = list('SVKVKCCBNHNSOSCCOPOC')\n",
    "testbase = list('NNCB')             \n",
    "\n",
    "step = 1\n",
    "steplim = 10\n",
    "\n",
    "basis = base\n",
    "rules_here = rules   \n",
    "\n",
    "while True:\n",
    "    offset = 0\n",
    "    injections = listinj(rules_here,basis)\n",
    "    for i in range(len(injections)):\n",
    "        basis.insert(injections[i][0]+offset,injections[i][1])\n",
    "        offset += 1\n",
    "    if step == steplim:\n",
    "        break    \n",
    "    step += 1\n",
    "\n",
    "contents = list(set(basis))\n",
    "counts = []\n",
    "for i in range(len(contents)):\n",
    "    counts.append(basis.count(contents[i]))\n",
    "#     if contents[i] == 'B':\n",
    "#         print('B', counts[i])\n",
    "print('Part 1 solution =',max(counts)-min(counts))\n",
    "\n",
    "# solution = 3213, confirmed 12/14/2021"
   ]
  },
  {
   "cell_type": "code",
   "execution_count": null,
   "metadata": {},
   "outputs": [],
   "source": []
  },
  {
   "cell_type": "code",
   "execution_count": null,
   "metadata": {},
   "outputs": [],
   "source": []
  },
  {
   "cell_type": "code",
   "execution_count": null,
   "metadata": {},
   "outputs": [],
   "source": []
  }
 ],
 "metadata": {
  "kernelspec": {
   "display_name": "Python 3",
   "language": "python",
   "name": "python3"
  },
  "language_info": {
   "codemirror_mode": {
    "name": "ipython",
    "version": 3
   },
   "file_extension": ".py",
   "mimetype": "text/x-python",
   "name": "python",
   "nbconvert_exporter": "python",
   "pygments_lexer": "ipython3",
   "version": "3.7.4"
  }
 },
 "nbformat": 4,
 "nbformat_minor": 4
}
