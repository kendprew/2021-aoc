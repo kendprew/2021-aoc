{
 "cells": [
  {
   "cell_type": "code",
   "execution_count": 1,
   "metadata": {},
   "outputs": [],
   "source": [
    "# setup\n",
    "import numpy as np\n",
    "\n",
    "graph = np.loadtxt('day12-inputf.txt',dtype = str)"
   ]
  },
  {
   "cell_type": "code",
   "execution_count": 2,
   "metadata": {},
   "outputs": [],
   "source": [
    "#print(graph)\n",
    "# function to determine options\n",
    "def options(array, target):\n",
    "    output = []\n",
    "    \n",
    "    for i in range(len(array)):\n",
    "        if array[i][0] == target:\n",
    "            output.append(array[i][1])\n",
    "        if array[i][1] == target:\n",
    "            output.append(array[i][0])\n",
    "    return(output)\n",
    "\n",
    "def pathstaken(array, target):\n",
    "    # check current path against stored paths to pick a different choice\n",
    "    return()\n",
    "#options(graph, 'A')\n",
    "\n",
    "# list all options\n",
    "nodes = []\n",
    "for i in range(len(graph)):\n",
    "    nodes.append(graph[i][0])\n",
    "    nodes.append(graph[i][1])\n",
    "# for i in range(len(nodes)):\n",
    "#nodes = list(filter('end'.__ne__, nodes)).copy()\n",
    "#nodes = list(filter('start'.__ne__, nodes)).copy()\n",
    "#print(set(nodes))\n",
    "\n",
    "# define all paths except known dead ends\n",
    "nodes = list(set(nodes))\n",
    "paths = {}\n",
    "for i in range(len(nodes)):\n",
    "    if nodes[i] != 'm':\n",
    "        if nodes[i] != 'H':  \n",
    "            paths[nodes[i]] = options(graph,nodes[i])\n",
    "\n",
    "eternals = set(['A','E','F','G','end','start'])    \n",
    "step = 0\n",
    "start = ['start',]\n",
    "\n",
    "# while True:\n",
    "#     potens = paths[start[step]]\n",
    "#     #print('potens',potens)\n",
    "#     uncertain = True\n",
    "    \n",
    "#     for j in range(len(potens)):\n",
    "#         if uncertain == True:\n",
    "#             if step > 0:\n",
    "#                 if potens[j] != start[step-1]:\n",
    "#                     if potens[0] != 'start':\n",
    "#                         start.append(potens[j])\n",
    "#                         uncertain == False\n",
    "#             else: \n",
    "#                 start.append(potens[j])\n",
    "#                 uncertain == False\n",
    "#     if set(start[step + 1]).issubset(eternals) != True:\n",
    "#         paths[start[step]].remove(start[step + 1])\n",
    "#     if start[step + 1] == 'end':\n",
    "#         break\n",
    "#     step += 1\n",
    "#     print('chosen =',start[step])\n",
    "#     print('path', start)\n",
    "# print(start)"
   ]
  },
  {
   "cell_type": "code",
   "execution_count": 15,
   "metadata": {},
   "outputs": [
    {
     "data": {
      "text/plain": [
       "('d', 'F', 'b', 'A', 'k', 'G', 'E', 'c', 'i')"
      ]
     },
     "execution_count": 15,
     "metadata": {},
     "output_type": "execute_result"
    }
   ],
   "source": [
    "# all possible paths\n",
    "import itertools\n",
    "\n",
    "def all_perms(elements):\n",
    "    if len(elements) <=1:\n",
    "        yield elements\n",
    "    else:\n",
    "        for perm in all_perms(elements[1:]):\n",
    "            for i in range(len(elements)):\n",
    "                # nb elements[0:1] works in both string and list contexts\n",
    "                yield perm[:i] + elements[0:1] + perm[i:]\n",
    "                \n",
    "nodetest = ['d', 'F', 'b', 'A', 'k', 'E', 'G', 'i', 'c',]\n",
    "\n",
    "#possible = list(itertools.permutations(nodetest))\n",
    "len(possible)\n",
    "possible[7]"
   ]
  },
  {
   "cell_type": "code",
   "execution_count": 20,
   "metadata": {},
   "outputs": [],
   "source": [
    "with open(\"day12-allpaths.txt\", 'w') as output:\n",
    "    for row in possible:\n",
    "        output.write(str(row) + '\\n')"
   ]
  },
  {
   "cell_type": "code",
   "execution_count": 21,
   "metadata": {},
   "outputs": [],
   "source": [
    "with open(\"day12-allpaths.txt\", 'a') as output:\n",
    "    #for row in possible:\n",
    "    output.write(str(1))"
   ]
  },
  {
   "cell_type": "code",
   "execution_count": null,
   "metadata": {},
   "outputs": [],
   "source": []
  }
 ],
 "metadata": {
  "kernelspec": {
   "display_name": "Python 3",
   "language": "python",
   "name": "python3"
  },
  "language_info": {
   "codemirror_mode": {
    "name": "ipython",
    "version": 3
   },
   "file_extension": ".py",
   "mimetype": "text/x-python",
   "name": "python",
   "nbconvert_exporter": "python",
   "pygments_lexer": "ipython3",
   "version": "3.7.4"
  }
 },
 "nbformat": 4,
 "nbformat_minor": 4
}
