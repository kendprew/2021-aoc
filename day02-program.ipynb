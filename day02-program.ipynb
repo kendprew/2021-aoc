{
 "cells": [
  {
   "cell_type": "code",
   "execution_count": 2,
   "metadata": {},
   "outputs": [],
   "source": [
    "# SETUP\n",
    "import numpy as np\n",
    "from time import perf_counter\n",
    "move = np.loadtxt(\"day02-input.txt\",usecols=(0), dtype=str)\n",
    "mag = np.loadtxt(\"day02-input.txt\",usecols=(1))"
   ]
  },
  {
   "cell_type": "code",
   "execution_count": 11,
   "metadata": {},
   "outputs": [
    {
     "name": "stdout",
     "output_type": "stream",
     "text": [
      "Part 1 Solution =  1580000.0\n",
      "Time Elapsed = 0.0026\n"
     ]
    }
   ],
   "source": [
    "# Part 1: Determine the product of the depth and horizontal position after the last move command of the input text file\n",
    "s = perf_counter()\n",
    "depth = 0;\n",
    "position = 0;\n",
    "\n",
    "for i in range(len(move)):\n",
    "    if move[i] == \"forward\":\n",
    "        position = position + mag[i]\n",
    "    if move[i] == \"up\":\n",
    "        depth = depth - mag[i]\n",
    "    if move[i] == \"down\":\n",
    "        depth = depth + mag[i]\n",
    "Product = depth*position;\n",
    "print(\"Part 1 Solution = \",Product)\n",
    "\n",
    "# Answer 1580000.0, confirmed 12/3/21\n",
    "e = perf_counter()\n",
    "time = round((e - s),4)\n",
    "print('Time Elapsed =',time)"
   ]
  },
  {
   "cell_type": "code",
   "execution_count": 15,
   "metadata": {},
   "outputs": [
    {
     "name": "stdout",
     "output_type": "stream",
     "text": [
      "Part 2 Solution =  1251263225.0\n",
      "Time Elapsed = 0.0038\n"
     ]
    }
   ],
   "source": [
    "# Part 2: Determine the product of the depth and horizontal position after the last move command of the input text file using aim command\n",
    "s = perf_counter()\n",
    "depth = 0;\n",
    "position = 0;\n",
    "aim = 0;\n",
    "\n",
    "for i in range(len(move)):\n",
    "    if move[i] == \"up\":\n",
    "        aim = aim - mag[i]\n",
    "    if move[i] == \"down\":\n",
    "        aim = aim + mag[i]   \n",
    "    if move[i] == \"forward\":\n",
    "        position = position + mag[i]\n",
    "        depth = depth + aim*mag[i]\n",
    "\n",
    "Product = depth*position;\n",
    "print(\"Part 2 Solution = \",Product)\n",
    "\n",
    "# Answer 1251263225, confirmed 12/3/21\n",
    "e = perf_counter()\n",
    "time = round((e - s),4)\n",
    "print('Time Elapsed =',time)"
   ]
  },
  {
   "cell_type": "code",
   "execution_count": null,
   "metadata": {},
   "outputs": [],
   "source": []
  }
 ],
 "metadata": {
  "kernelspec": {
   "display_name": "Python 3",
   "language": "python",
   "name": "python3"
  },
  "language_info": {
   "codemirror_mode": {
    "name": "ipython",
    "version": 3
   },
   "file_extension": ".py",
   "mimetype": "text/x-python",
   "name": "python",
   "nbconvert_exporter": "python",
   "pygments_lexer": "ipython3",
   "version": "3.7.4"
  }
 },
 "nbformat": 4,
 "nbformat_minor": 4
}
