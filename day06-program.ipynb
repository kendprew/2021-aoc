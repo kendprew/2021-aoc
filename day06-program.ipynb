{
 "cells": [
  {
   "cell_type": "code",
   "execution_count": 10,
   "metadata": {},
   "outputs": [],
   "source": [
    "# SETUP\n",
    "import numpy as np\n",
    "from time import perf_counter\n",
    "\n",
    "initial = np.loadtxt(\"day06-input.txt\",delimiter=',')\n",
    "test = np.loadtxt(\"day06-test.txt\",delimiter=',')"
   ]
  },
  {
   "cell_type": "code",
   "execution_count": 12,
   "metadata": {},
   "outputs": [
    {
     "name": "stdout",
     "output_type": "stream",
     "text": [
      "Part 1 Solution =  386536\n",
      "Time Elapsed = 3.4741\n"
     ]
    }
   ],
   "source": [
    "# Part 1: determine the number of lanternfish after 80 days\n",
    "s = perf_counter()\n",
    "newfish = []\n",
    "school = []\n",
    "school = initial\n",
    "days = 1\n",
    "target = 80 # days\n",
    "limit = target + 1 # days\n",
    "while True:\n",
    "    for i in range(len(school)):\n",
    "        if school[i] == 0:\n",
    "            newfish.append(8)\n",
    "            school[i] = 6\n",
    "        else: school[i] -= 1\n",
    "    school = np.append(school,newfish)\n",
    "    days += 1\n",
    "    newfish = []\n",
    "    if days == limit:\n",
    "        break\n",
    "\n",
    "print('Part 1 Solution = ', len(school))\n",
    "e = perf_counter()\n",
    "time = round((e - s),4)\n",
    "print('Time Elapsed =',time)"
   ]
  },
  {
   "cell_type": "code",
   "execution_count": 17,
   "metadata": {},
   "outputs": [
    {
     "name": "stdout",
     "output_type": "stream",
     "text": [
      "Part 2 Solution = 1732821262171\n",
      "Time Elapsed = 0.004\n"
     ]
    }
   ],
   "source": [
    "# Part 2: determine the number of lanternfish at 256 days\n",
    "s = perf_counter()\n",
    "initial = np.loadtxt(\"day06-input.txt\",delimiter=',')\n",
    "age = [0,0,0,0,0,0,0,0,0]\n",
    "days = 1\n",
    "target = 256\n",
    "limit = target + 1\n",
    "new = 0\n",
    "\n",
    "\n",
    "for i in range(len(initial)):\n",
    "    if initial[i] == 0:\n",
    "        age[0] += 1\n",
    "    if initial[i] == 1:\n",
    "        age[1] += 1\n",
    "    if initial[i] == 2:\n",
    "        age[2] += 1\n",
    "    if initial[i] == 3:\n",
    "        age[3] += 1\n",
    "    if initial[i] == 4:\n",
    "        age[4] += 1\n",
    "    if initial[i] == 5:\n",
    "        age[5] += 1\n",
    "    if initial[i] == 6:\n",
    "        age[6] += 1\n",
    "\n",
    "while True:\n",
    "    new = age[0]\n",
    "    for j in range(len(age) - 1):\n",
    "        if j == 0:\n",
    "            age[j] = 0\n",
    "        else: age[j-1] = age[j]\n",
    "        if j == 7:\n",
    "            age[7] = age[8]\n",
    "    age[6] += new\n",
    "    age[8] = new\n",
    "    new = 0\n",
    "    days += 1\n",
    "    if days == limit:\n",
    "        break\n",
    "print('Part 2 Solution =',sum(age))\n",
    "\n",
    "# Solution = 1732821262171, verified 12/7/2021\n",
    "e = perf_counter()\n",
    "time = round((e - s),4)\n",
    "print('Time Elapsed =',time)"
   ]
  },
  {
   "cell_type": "code",
   "execution_count": null,
   "metadata": {},
   "outputs": [],
   "source": []
  }
 ],
 "metadata": {
  "kernelspec": {
   "display_name": "Python 3",
   "language": "python",
   "name": "python3"
  },
  "language_info": {
   "codemirror_mode": {
    "name": "ipython",
    "version": 3
   },
   "file_extension": ".py",
   "mimetype": "text/x-python",
   "name": "python",
   "nbconvert_exporter": "python",
   "pygments_lexer": "ipython3",
   "version": "3.7.4"
  }
 },
 "nbformat": 4,
 "nbformat_minor": 4
}
