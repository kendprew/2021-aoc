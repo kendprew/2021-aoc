{
 "cells": [
  {
   "cell_type": "code",
   "execution_count": 80,
   "metadata": {},
   "outputs": [],
   "source": [
    "# setup\n",
    "import numpy as np\n",
    "import statistics as stat\n",
    "test = np.loadtxt(\"day10-test.txt\", dtype = str)\n",
    "real = np.loadtxt(\"day10-input.txt\", dtype = str)"
   ]
  },
  {
   "cell_type": "code",
   "execution_count": 81,
   "metadata": {},
   "outputs": [
    {
     "name": "stdout",
     "output_type": "stream",
     "text": [
      "Part 1 Solution = 311949\n"
     ]
    }
   ],
   "source": [
    "# determine chunk corruption and what not\n",
    "nav = real.copy()\n",
    "\n",
    "# Symbol Library\n",
    "pairs = [['(',')'],['[',']'],['{','}'],['<','>']]\n",
    "parens = ['(',')']\n",
    "brackets = ['[',']']\n",
    "braces = ['{','}']\n",
    "thans = ['<','>']\n",
    "opens = {'(','[','{','<'}\n",
    "closes = {')',']','}','>'}\n",
    "incomplete = []\n",
    "filtered = []\n",
    "\n",
    "def symbolmatch(string):\n",
    "    if string == parens[0]:\n",
    "        return(parens[1])\n",
    "    if string == brackets[0]:\n",
    "        return(brackets[1])\n",
    "    if string == braces[0]:\n",
    "        return(braces[1])\n",
    "    if string == thans[0]:\n",
    "        return(thans[1])\n",
    "    return()\n",
    "\n",
    "# Cull input data\n",
    "for j in range(len(nav)):\n",
    "    \n",
    "    # Eliminate legal chunks\n",
    "    line = list(nav[j])\n",
    "    count = 0\n",
    "    while True:\n",
    "        line = list(line)\n",
    "        for i in range(len(line)):\n",
    "            if i > 0:\n",
    "                if line[i] == symbolmatch(line[i-1]):\n",
    "                    line[i] = ''\n",
    "                    line[i-1] = '' \n",
    "        line = ''.join(line)\n",
    "        count += 1\n",
    "        if count == 50:\n",
    "            break\n",
    "    K = set(line)\n",
    "    if K.issubset(opens) == True:\n",
    "        incomplete.append(line) \n",
    "    filtered.append(line)\n",
    "    \n",
    "    #print('final line',j,':',line)\n",
    "for i in range(len(filtered)):\n",
    "    A = set(list(filtered[i]))\n",
    "    if A.issubset(closes) == True:\n",
    "        filtered[i] = ''\n",
    "    if A.issubset(opens) == True:\n",
    "        filtered[i] = ''\n",
    "filtered = list(filter(('').__ne__, filtered)).copy()\n",
    "#print(filtered)\n",
    "\n",
    "corrupt = []\n",
    "count = 0\n",
    "found = False\n",
    "for i in range(len(filtered)):\n",
    "    found = False\n",
    "    line = list(filtered[i])\n",
    "    #print(filtered[i])\n",
    "    for j in range(len(line)):\n",
    "        B = {line[j]}\n",
    "        if found == False:\n",
    "            if B.issubset(closes) == True:                    \n",
    "                #print('corruption = ',line[j])\n",
    "                if list(B) == ['}']:\n",
    "                    count += 1197\n",
    "                    found = True\n",
    "                    corrupt.append(list(B)) \n",
    "                if list(B) == [')']:\n",
    "                    if found == False:\n",
    "                        count += 3\n",
    "                        found = True\n",
    "                        corrupt.append(list(B)) \n",
    "                if list(B) == [']']:\n",
    "                    if found == False:\n",
    "                        count += 57\n",
    "                        found = True\n",
    "                        corrupt.append(list(B)) \n",
    "                if list(B) == ['>']:\n",
    "                    if found == False:\n",
    "                        count += 25137\n",
    "                        corrupt.append(list(B))\n",
    "                        found = True\n",
    "\n",
    "print('Part 1 Solution =',count)\n",
    "\n",
    "# Solution = 311949, Confirmed 12/11/2021"
   ]
  },
  {
   "cell_type": "code",
   "execution_count": 82,
   "metadata": {},
   "outputs": [],
   "source": [
    "def val(string):\n",
    "    if string == '{':\n",
    "        return(3)\n",
    "    if string == '(':\n",
    "        return(1)\n",
    "    if string == '[':\n",
    "        return(2)\n",
    "    if string == '<':\n",
    "        return(4)\n",
    "    return('error')\n",
    "\n",
    "def reverse(s):\n",
    "    if len(s) == 0:\n",
    "        return s\n",
    "    else:\n",
    "        return reverse(s[1:]) + s[0]"
   ]
  },
  {
   "cell_type": "code",
   "execution_count": 84,
   "metadata": {},
   "outputs": [
    {
     "name": "stdout",
     "output_type": "stream",
     "text": [
      "Part 2 Solution =  3042730309\n"
     ]
    }
   ],
   "source": [
    "# Part 2 Solution\n",
    "scores = []\n",
    "score = 0\n",
    "for i in range(len(incomplete)):\n",
    "    string = reverse(incomplete[i])\n",
    "    score = 0\n",
    "    for j in range(len(string)):\n",
    "        score = 5*score\n",
    "        score += val(string[j])\n",
    "    scores.append(score)\n",
    "print('Part 2 Solution = ',stat.median(scores))\n",
    "# solution = 3042730309, confirmed 12/14/2021"
   ]
  },
  {
   "cell_type": "code",
   "execution_count": null,
   "metadata": {},
   "outputs": [],
   "source": []
  },
  {
   "cell_type": "code",
   "execution_count": null,
   "metadata": {},
   "outputs": [],
   "source": []
  }
 ],
 "metadata": {
  "kernelspec": {
   "display_name": "Python 3",
   "language": "python",
   "name": "python3"
  },
  "language_info": {
   "codemirror_mode": {
    "name": "ipython",
    "version": 3
   },
   "file_extension": ".py",
   "mimetype": "text/x-python",
   "name": "python",
   "nbconvert_exporter": "python",
   "pygments_lexer": "ipython3",
   "version": "3.7.4"
  }
 },
 "nbformat": 4,
 "nbformat_minor": 4
}
