{
 "cells": [
  {
   "cell_type": "code",
   "execution_count": 1,
   "metadata": {},
   "outputs": [],
   "source": [
    "# Setups\n",
    "import numpy as np\n",
    "from time import perf_counter\n",
    "lines = np.loadtxt(\"day05-inputf.txt\",dtype=int)\n",
    "test = np.loadtxt(\"day05-test.txt\",dtype=int)\n",
    "linesT = np.transpose(lines)\n",
    "testT = np.transpose(test)\n"
   ]
  },
  {
   "cell_type": "code",
   "execution_count": 2,
   "metadata": {},
   "outputs": [
    {
     "name": "stdout",
     "output_type": "stream",
     "text": [
      "Part 1 Solution = 8622\n",
      "Time Elapsed = 0.012\n"
     ]
    }
   ],
   "source": [
    "# Part 1: Determine the number of overlapping zones in data\n",
    "s = perf_counter()\n",
    "# Determine bounds\n",
    "maxi = [0,0,0,0]\n",
    "mini = [0,0,0,0]\n",
    "for i in range(3):\n",
    "    maxi[i] = max(linesT[i])\n",
    "    mini[i] = min(linesT[i])\n",
    "maxi = max(maxi)\n",
    "mini = min(mini)\n",
    "\n",
    "# Declare mapi\n",
    "mapi = np.zeros((maxi+1,maxi+1))\n",
    "\n",
    "for i in range(len(lines)):\n",
    "    if lines[i,0] == lines[i,2]:\n",
    "        if lines[i,1] > lines[i,3]:\n",
    "            mapi[lines[i,3]:lines[i,1]+1,lines[i,0]] += 1\n",
    "        if lines[i,1] < lines[i,3]:\n",
    "            mapi[lines[i,1]:lines[i,3]+1,lines[i,0]] += 1\n",
    "    if lines[i,1] == lines[i,3]:\n",
    "        if lines[i,0] > lines[i,2]:\n",
    "            mapi[lines[i,1],lines[i,2]:lines[i,0]+1] += 1\n",
    "        if lines[i,0] < lines[i,2]:\n",
    "            mapi[lines[i,1],lines[i,0]:lines[i,2]+1] += 1       \n",
    "            \n",
    "solution = np.count_nonzero(mapi > 1)\n",
    "print('Part 1 Solution =',solution)\n",
    "# solution 8622, confirmed 12/7/2021\n",
    "e = perf_counter()\n",
    "time = round((e - s),4)\n",
    "print('Time Elapsed =',time)"
   ]
  },
  {
   "cell_type": "code",
   "execution_count": 3,
   "metadata": {},
   "outputs": [
    {
     "name": "stdout",
     "output_type": "stream",
     "text": [
      "Part 2 Solution = 22037\n",
      "Time Elapsed = 0.3786\n"
     ]
    }
   ],
   "source": [
    "# Part 2: Determine the number of overlapping zones in data\n",
    "s = perf_counter()\n",
    "def points(x1,y1,x2,y2):\n",
    "    x = x1\n",
    "    y = y1\n",
    "    xrange = []\n",
    "    yrange = []\n",
    "    while True:\n",
    "        xrange.append(x)\n",
    "        x += np.sign(x2-x1)\n",
    "        if abs(x-x1) == abs(x1-x2):\n",
    "            break\n",
    "    while True:\n",
    "        yrange.append(y)   \n",
    "        y += np.sign(y2-y1)\n",
    "        if abs(y-y1) == abs(y1-y2):\n",
    "            break\n",
    "    return(xrange,yrange)\n",
    "\n",
    "# Determine bounds\n",
    "maxi = [0,0,0,0]\n",
    "mini = [0,0,0,0]\n",
    "for i in range(3):\n",
    "    maxi[i] = max(linesT[i])\n",
    "    mini[i] = min(linesT[i])\n",
    "maxi = max(maxi)\n",
    "mini = min(mini)\n",
    "\n",
    "\n",
    "# Declare mapi\n",
    "mapi = np.zeros((maxi+1,maxi+1))\n",
    "\n",
    "for i in range(len(lines)):\n",
    "    #print(i)\n",
    "    xrange = 0\n",
    "    yrange = 0\n",
    "    j = 0\n",
    "    \n",
    "    if lines[i,0] == lines[i,2]:\n",
    "        if lines[i,1] > lines[i,3]:\n",
    "            mapi[lines[i,3]:lines[i,1]+1,lines[i,0]] += 1\n",
    "        if lines[i,1] < lines[i,3]:\n",
    "            mapi[lines[i,1]:lines[i,3]+1,lines[i,0]] += 1\n",
    "    if lines[i,1] == lines[i,3]:\n",
    "        if lines[i,0] > lines[i,2]:\n",
    "            mapi[lines[i,1],lines[i,2]:lines[i,0]+1] += 1\n",
    "        if lines[i,0] < lines[i,2]:\n",
    "            mapi[lines[i,1],lines[i,0]:lines[i,2]+1] += 1       \n",
    "    if lines[i,0] != lines[i,2] and lines[i,1] != lines[i,3]:\n",
    "        xrange, yrange = points(lines[i,0],lines[i,1],lines[i,2],lines[i,3])\n",
    "        #mapi[lines[i,1],lines[i,0]] += 1\n",
    "        mapi[lines[i,3],lines[i,2]] += 1\n",
    "        for j in range(len(xrange)):\n",
    "            mapi[yrange[j],xrange[j]] += 1               \n",
    "\n",
    "solution = np.count_nonzero(mapi > 1)\n",
    "print('Part 2 Solution =',solution)\n",
    "\n",
    "#solution = 22037, confirmed 12/8/2021\n",
    "e = perf_counter()\n",
    "time = round((e - s),4)\n",
    "print('Time Elapsed =',time)"
   ]
  },
  {
   "cell_type": "code",
   "execution_count": null,
   "metadata": {},
   "outputs": [],
   "source": []
  }
 ],
 "metadata": {
  "kernelspec": {
   "display_name": "Python 3",
   "language": "python",
   "name": "python3"
  },
  "language_info": {
   "codemirror_mode": {
    "name": "ipython",
    "version": 3
   },
   "file_extension": ".py",
   "mimetype": "text/x-python",
   "name": "python",
   "nbconvert_exporter": "python",
   "pygments_lexer": "ipython3",
   "version": "3.7.4"
  }
 },
 "nbformat": 4,
 "nbformat_minor": 4
}
